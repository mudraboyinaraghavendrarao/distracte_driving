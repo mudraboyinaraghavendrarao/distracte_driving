{
 "cells": [
  {
   "cell_type": "code",
   "execution_count": 64,
   "metadata": {},
   "outputs": [],
   "source": [
    "import numpy as np\n",
    "from keras.preprocessing.image import ImageDataGenerator"
   ]
  },
  {
   "cell_type": "code",
   "execution_count": 65,
   "metadata": {},
   "outputs": [],
   "source": [
    "from keras.models import Sequential\n",
    "from keras.layers import Conv2D, MaxPooling2D\n",
    "from keras.layers import Activation, Dropout, Flatten, Dense\n",
    "\n",
    "model = Sequential()\n",
    "model.add(Conv2D(32, (3, 3), input_shape=(150, 150, 3)))\n",
    "model.add(Activation('relu'))\n",
    "model.add(MaxPooling2D(pool_size=(2, 2)))\n",
    "\n",
    "model.add(Conv2D(32, (3, 3)))\n",
    "model.add(Activation('relu'))\n",
    "model.add(MaxPooling2D(pool_size=(2, 2)))\n",
    "\n",
    "model.add(Conv2D(64, (3, 3)))\n",
    "model.add(Activation('relu'))\n",
    "model.add(MaxPooling2D(pool_size=(2, 2)))\n",
    "\n",
    "model.add(Flatten())  # this converts our 3D feature maps to 1D feature vectors\n",
    "model.add(Dense(64))\n",
    "model.add(Activation('relu'))\n",
    "model.add(Dropout(0.5))\n",
    "model.add(Dense(5))\n",
    "model.add(Activation('softmax'))\n",
    "\n",
    "model.compile(loss='categorical_crossentropy',\n",
    "              optimizer='rmsprop',\n",
    "              metrics=['accuracy'])"
   ]
  },
  {
   "cell_type": "code",
   "execution_count": 66,
   "metadata": {},
   "outputs": [],
   "source": [
    "batch_size = 32\n",
    "train_datagen = ImageDataGenerator(\n",
    "        rescale=1./255,\n",
    "        shear_range=0.2,\n",
    "        zoom_range=0.2,\n",
    "        horizontal_flip=True)"
   ]
  },
  {
   "cell_type": "code",
   "execution_count": 67,
   "metadata": {},
   "outputs": [],
   "source": [
    "test_datagen = ImageDataGenerator(rescale=1./255)\n"
   ]
  },
  {
   "cell_type": "code",
   "execution_count": 68,
   "metadata": {},
   "outputs": [
    {
     "name": "stdout",
     "output_type": "stream",
     "text": [
      "Found 120 images belonging to 5 classes.\n",
      "Found 45 images belonging to 5 classes.\n"
     ]
    }
   ],
   "source": [
    "train_generator = train_datagen.flow_from_directory(\n",
    "        'F:\\\\Insofe\\\\ohers\\\\Batch_48\\\\Batch_48\\\\CNN_Lab_Files\\\\CNN-Lab\\\\flow_dir\\\\data\\\\train\\\\train',  # this is the target directory\n",
    "        target_size=(150, 150),  # all images will be resized to 150x150\n",
    "        batch_size=batch_size,\n",
    "        class_mode='categorical')  # since we use binary_crossentropy loss, we need binary labels\n",
    "\n",
    "# this is a similar generator, for validation data\n",
    "validation_generator = test_datagen.flow_from_directory(\n",
    "        'F:\\\\Insofe\\\\ohers\\\\Batch_48\\\\Batch_48\\\\CNN_Lab_Files\\\\CNN-Lab\\\\flow_dir\\\\data\\\\train\\\\validation',\n",
    "        target_size=(150, 150),\n",
    "        batch_size=batch_size,\n",
    "        class_mode='categorical')"
   ]
  },
  {
   "cell_type": "code",
   "execution_count": 69,
   "metadata": {},
   "outputs": [
    {
     "name": "stdout",
     "output_type": "stream",
     "text": [
      "Epoch 1/5\n",
      "3/3 [==============================] - 4s 1s/step - loss: 2.0443 - accuracy: 0.1979 - val_loss: 1.6044 - val_accuracy: 0.2500\n",
      "Epoch 2/5\n",
      "3/3 [==============================] - 4s 1s/step - loss: 1.6320 - accuracy: 0.1818 - val_loss: 1.6106 - val_accuracy: 0.1538\n",
      "Epoch 3/5\n",
      "3/3 [==============================] - 4s 1s/step - loss: 1.6087 - accuracy: 0.1136 - val_loss: 1.6009 - val_accuracy: 0.2188\n",
      "Epoch 4/5\n",
      "3/3 [==============================] - 3s 1s/step - loss: 1.6048 - accuracy: 0.1705 - val_loss: 1.6421 - val_accuracy: 0.0769\n",
      "Epoch 5/5\n",
      "3/3 [==============================] - 4s 1s/step - loss: 1.6249 - accuracy: 0.2386 - val_loss: 1.6005 - val_accuracy: 0.2500\n"
     ]
    }
   ],
   "source": [
    "model.fit_generator(\n",
    "        train_generator,\n",
    "        steps_per_epoch=120//batch_size,\n",
    "        epochs=5,\n",
    "        validation_data=validation_generator,\n",
    "        validation_steps=45//batch_size)\n",
    "model.save_weights('F:\\\\Insofe\\\\ohers\\\\Batch_48\\\\Batch_48\\\\CNN_Lab_Files\\\\CNN-Lab\\\\flow_dirfirst_try.h5')"
   ]
  },
  {
   "cell_type": "code",
   "execution_count": 70,
   "metadata": {},
   "outputs": [],
   "source": [
    "model.save(\"F:\\\\Insofe\\\\ohers\\\\Batch_48\\\\Batch_48\\\\CNN_Lab_Files\\\\CNN-Lab\\\\model.h5\")"
   ]
  },
  {
   "cell_type": "code",
   "execution_count": 71,
   "metadata": {},
   "outputs": [
    {
     "name": "stdout",
     "output_type": "stream",
     "text": [
      "{'c0': 0, 'c1': 1, 'c2': 2, 'c3': 3, 'c4': 4}\n"
     ]
    }
   ],
   "source": [
    "print(train_generator.class_indices)"
   ]
  },
  {
   "cell_type": "code",
   "execution_count": 72,
   "metadata": {},
   "outputs": [
    {
     "name": "stdout",
     "output_type": "stream",
     "text": [
      "Found 43 images belonging to 1 classes.\n"
     ]
    }
   ],
   "source": [
    "test_generator = test_datagen.flow_from_directory(\n",
    "        'F:\\\\Insofe\\\\ohers\\\\Batch_48\\\\Batch_48\\\\CNN_Lab_Files\\\\CNN-Lab\\\\flow_dir\\\\data\\\\test', \n",
    "        target_size=(150, 150), \n",
    "        batch_size=batch_size,\n",
    "        class_mode='categorical')"
   ]
  },
  {
   "cell_type": "code",
   "execution_count": 73,
   "metadata": {},
   "outputs": [],
   "source": [
    "valid_prob = model.predict_generator(validation_generator,steps=2)"
   ]
  },
  {
   "cell_type": "code",
   "execution_count": 74,
   "metadata": {},
   "outputs": [
    {
     "data": {
      "text/plain": [
       "array([[0.19282153, 0.1989888 , 0.20866618, 0.20208317, 0.19744034],\n",
       "       [0.19559018, 0.19881956, 0.20041156, 0.20088032, 0.20429835],\n",
       "       [0.19896896, 0.20318535, 0.20227626, 0.19427884, 0.20129058],\n",
       "       [0.19167626, 0.1962752 , 0.19969067, 0.20427753, 0.2080804 ],\n",
       "       [0.19262001, 0.19799063, 0.20305194, 0.20093015, 0.20540723],\n",
       "       [0.191215  , 0.19486432, 0.20213795, 0.20949404, 0.2022887 ],\n",
       "       [0.19561929, 0.20160326, 0.20892608, 0.19763586, 0.19621554],\n",
       "       [0.19245566, 0.20157588, 0.21206318, 0.19724093, 0.19666427],\n",
       "       [0.19122456, 0.20014907, 0.21726754, 0.19692011, 0.1944387 ],\n",
       "       [0.19738111, 0.20492317, 0.20679276, 0.19077829, 0.20012464],\n",
       "       [0.1915563 , 0.19804098, 0.20982525, 0.20133829, 0.19923918],\n",
       "       [0.19523893, 0.20038241, 0.20097905, 0.20087855, 0.20252104],\n",
       "       [0.19525166, 0.2027071 , 0.20792668, 0.19752504, 0.19658951],\n",
       "       [0.19516002, 0.20089065, 0.20784606, 0.19770305, 0.19840023],\n",
       "       [0.1969229 , 0.20411387, 0.20627663, 0.19526507, 0.19742148],\n",
       "       [0.19627033, 0.2018572 , 0.20597629, 0.19912484, 0.19677132],\n",
       "       [0.19785945, 0.20528935, 0.20567055, 0.19140832, 0.19977234],\n",
       "       [0.19673845, 0.20426804, 0.20613635, 0.19186316, 0.20099406],\n",
       "       [0.1942016 , 0.19787791, 0.19941252, 0.2022804 , 0.20622754],\n",
       "       [0.19307245, 0.19714361, 0.200416  , 0.20298018, 0.2063877 ],\n",
       "       [0.19799092, 0.20410846, 0.2022061 , 0.19298676, 0.20270777],\n",
       "       [0.19547407, 0.20004864, 0.20111093, 0.20123614, 0.20213026],\n",
       "       [0.1937603 , 0.19831291, 0.2008697 , 0.20013763, 0.2069195 ],\n",
       "       [0.19777803, 0.20084763, 0.20079365, 0.1950629 , 0.20551783],\n",
       "       [0.19721033, 0.20238632, 0.20189916, 0.19700506, 0.20149915],\n",
       "       [0.1938175 , 0.20045996, 0.20297636, 0.19923879, 0.2035074 ],\n",
       "       [0.19817519, 0.20327577, 0.20393574, 0.19737092, 0.19724245],\n",
       "       [0.19447634, 0.20047845, 0.20853715, 0.2000799 , 0.19642812],\n",
       "       [0.19436078, 0.19950788, 0.20781274, 0.19913994, 0.19917865],\n",
       "       [0.19755799, 0.20222434, 0.20435846, 0.19641632, 0.19944291],\n",
       "       [0.19382311, 0.1993236 , 0.20545894, 0.20195939, 0.19943495],\n",
       "       [0.19528362, 0.20246209, 0.205503  , 0.19266799, 0.20408334],\n",
       "       [0.20012003, 0.20283489, 0.20021583, 0.1939201 , 0.2029091 ],\n",
       "       [0.19648218, 0.20144853, 0.2037247 , 0.19799916, 0.20034546],\n",
       "       [0.19379015, 0.20182046, 0.21238184, 0.19650161, 0.19550586],\n",
       "       [0.19666256, 0.2017454 , 0.20186517, 0.19876157, 0.20096532],\n",
       "       [0.19519979, 0.19895545, 0.2053428 , 0.19876282, 0.2017392 ],\n",
       "       [0.19583093, 0.19989838, 0.20145383, 0.19729878, 0.20551807],\n",
       "       [0.19637375, 0.20516524, 0.20354593, 0.19201463, 0.20290048],\n",
       "       [0.19550477, 0.20099689, 0.20153691, 0.200527  , 0.20143445],\n",
       "       [0.1962561 , 0.20236136, 0.20138372, 0.19602498, 0.20397379],\n",
       "       [0.19556874, 0.19998093, 0.20189126, 0.20040868, 0.20215037],\n",
       "       [0.1944529 , 0.20325235, 0.20887065, 0.19257651, 0.2008476 ],\n",
       "       [0.19374268, 0.19928245, 0.20333956, 0.20032087, 0.2033144 ],\n",
       "       [0.19622274, 0.20191377, 0.20660588, 0.19825588, 0.19700167]],\n",
       "      dtype=float32)"
      ]
     },
     "execution_count": 74,
     "metadata": {},
     "output_type": "execute_result"
    }
   ],
   "source": [
    "valid_prob"
   ]
  },
  {
   "cell_type": "code",
   "execution_count": 75,
   "metadata": {},
   "outputs": [],
   "source": [
    "test_prob = model.predict_generator(test_generator,steps=2)"
   ]
  },
  {
   "cell_type": "code",
   "execution_count": 76,
   "metadata": {},
   "outputs": [
    {
     "data": {
      "text/plain": [
       "array([[0.19203582, 0.20026787, 0.21095687, 0.2000326 , 0.19670682],\n",
       "       [0.19523025, 0.20121314, 0.2076596 , 0.19872406, 0.19717295],\n",
       "       [0.19554885, 0.20040826, 0.20519584, 0.20088865, 0.19795844],\n",
       "       [0.19330448, 0.20173658, 0.21175584, 0.19681297, 0.19639005],\n",
       "       [0.19346805, 0.19758351, 0.20110308, 0.20174205, 0.20610337],\n",
       "       [0.19496535, 0.19936563, 0.20555174, 0.19857194, 0.20154531],\n",
       "       [0.19646996, 0.20122862, 0.20322676, 0.19427347, 0.20480119],\n",
       "       [0.19547302, 0.20356067, 0.20755133, 0.19146536, 0.2019496 ],\n",
       "       [0.1944359 , 0.2035812 , 0.20859456, 0.19192587, 0.20146245],\n",
       "       [0.19529949, 0.1990646 , 0.1988647 , 0.20268138, 0.20408984],\n",
       "       [0.19475071, 0.2005428 , 0.20416044, 0.19765978, 0.20288621],\n",
       "       [0.1936435 , 0.19848405, 0.20425105, 0.20224427, 0.20137714],\n",
       "       [0.19401698, 0.19808921, 0.20318328, 0.2019827 , 0.20272778],\n",
       "       [0.19437027, 0.19956008, 0.20596407, 0.20041475, 0.19969085],\n",
       "       [0.1946048 , 0.20125088, 0.20720756, 0.19931519, 0.19762163],\n",
       "       [0.19502743, 0.19828075, 0.19957004, 0.2029082 , 0.20421359],\n",
       "       [0.19536126, 0.198223  , 0.19934346, 0.20239568, 0.20467666],\n",
       "       [0.19601536, 0.20215955, 0.20461449, 0.19380233, 0.20340833],\n",
       "       [0.19492137, 0.20081411, 0.20197612, 0.19983698, 0.20245144],\n",
       "       [0.19194955, 0.19953835, 0.21063153, 0.19971617, 0.19816445],\n",
       "       [0.19495396, 0.1978765 , 0.19972426, 0.20245542, 0.20498988],\n",
       "       [0.19669282, 0.20243594, 0.20185846, 0.1966652 , 0.2023475 ],\n",
       "       [0.19353223, 0.19982465, 0.20562495, 0.2013521 , 0.19966604],\n",
       "       [0.19317688, 0.20005918, 0.20517811, 0.1988156 , 0.20277017],\n",
       "       [0.19529752, 0.19924678, 0.20101209, 0.20048669, 0.2039569 ],\n",
       "       [0.19636282, 0.20430578, 0.20447163, 0.19287476, 0.20198502],\n",
       "       [0.19594923, 0.19999176, 0.20447133, 0.19932213, 0.2002655 ],\n",
       "       [0.19464093, 0.20044352, 0.20578712, 0.19487658, 0.20425187],\n",
       "       [0.1949974 , 0.19997631, 0.20250627, 0.20143595, 0.20108405],\n",
       "       [0.19401081, 0.19966045, 0.20601505, 0.20151152, 0.19880222],\n",
       "       [0.19796744, 0.202618  , 0.20224085, 0.19586772, 0.20130594],\n",
       "       [0.19604328, 0.19986495, 0.19991596, 0.19996709, 0.20420863],\n",
       "       [0.19491352, 0.20286953, 0.20896776, 0.19718103, 0.19606818],\n",
       "       [0.1941937 , 0.19985089, 0.20739602, 0.20039375, 0.1981656 ],\n",
       "       [0.19545235, 0.20128788, 0.20499733, 0.19822901, 0.2000335 ],\n",
       "       [0.19618367, 0.20243423, 0.20598352, 0.19284986, 0.20254873],\n",
       "       [0.19548976, 0.1991166 , 0.20161149, 0.20167996, 0.20210217],\n",
       "       [0.19427298, 0.20065022, 0.20753345, 0.19858281, 0.19896054],\n",
       "       [0.19471604, 0.20116355, 0.20856757, 0.19886535, 0.1966875 ],\n",
       "       [0.1960329 , 0.20039462, 0.20353854, 0.19759636, 0.20243755],\n",
       "       [0.19440648, 0.20036995, 0.2048485 , 0.19765045, 0.20272468],\n",
       "       [0.19594096, 0.20091186, 0.20489736, 0.1985927 , 0.19965707],\n",
       "       [0.19160521, 0.1987009 , 0.20377359, 0.20162694, 0.2042933 ]],\n",
       "      dtype=float32)"
      ]
     },
     "execution_count": 76,
     "metadata": {},
     "output_type": "execute_result"
    }
   ],
   "source": [
    "test_prob"
   ]
  },
  {
   "cell_type": "code",
   "execution_count": 81,
   "metadata": {},
   "outputs": [],
   "source": [
    "test_pred_classes = np.argmax(test_prob, axis=1)"
   ]
  },
  {
   "cell_type": "code",
   "execution_count": 82,
   "metadata": {},
   "outputs": [
    {
     "name": "stdout",
     "output_type": "stream",
     "text": [
      "[2 2 2 2 4 2 4 2 2 4 2 2 2 2 2 4 4 2 4 2 4 1 2 2 4 2 2 2 2 2 1 4 2 2 2 2 4\n",
      " 2 2 2 2 2 4]\n"
     ]
    }
   ],
   "source": [
    "print(test_pred_classes)"
   ]
  },
  {
   "cell_type": "code",
   "execution_count": 83,
   "metadata": {},
   "outputs": [],
   "source": [
    "valid_prob_clases=np.argmax(valid_prob,axis=1)"
   ]
  },
  {
   "cell_type": "code",
   "execution_count": 84,
   "metadata": {},
   "outputs": [
    {
     "data": {
      "text/plain": [
       "array([2, 4, 1, 4, 4, 3, 2, 2, 2, 2, 2, 4, 2, 2, 2, 2, 2, 2, 4, 4, 1, 4,\n",
       "       4, 4, 1, 4, 2, 2, 2, 2, 2, 2, 4, 2, 2, 2, 2, 4, 1, 2, 4, 4, 2, 2,\n",
       "       2], dtype=int64)"
      ]
     },
     "execution_count": 84,
     "metadata": {},
     "output_type": "execute_result"
    }
   ],
   "source": [
    "valid_prob_clases"
   ]
  },
  {
   "cell_type": "code",
   "execution_count": 56,
   "metadata": {},
   "outputs": [
    {
     "name": "stdout",
     "output_type": "stream",
     "text": [
      "['test\\\\img_100312.jpg', 'test\\\\img_91724.jpg', 'test\\\\img_91729.jpg', 'test\\\\img_91761.jpg', 'test\\\\img_91769.jpg']\n"
     ]
    }
   ],
   "source": [
    "print(test_generator.filenames[:5])"
   ]
  },
  {
   "cell_type": "code",
   "execution_count": null,
   "metadata": {},
   "outputs": [],
   "source": []
  }
 ],
 "metadata": {
  "kernelspec": {
   "display_name": "Python 3",
   "language": "python",
   "name": "python3"
  },
  "language_info": {
   "codemirror_mode": {
    "name": "ipython",
    "version": 3
   },
   "file_extension": ".py",
   "mimetype": "text/x-python",
   "name": "python",
   "nbconvert_exporter": "python",
   "pygments_lexer": "ipython3",
   "version": "3.7.3"
  }
 },
 "nbformat": 4,
 "nbformat_minor": 2
}
